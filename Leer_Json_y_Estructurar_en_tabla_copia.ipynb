{
  "cells": [
    {
      "cell_type": "code",
      "source": [
        "%%pyspark\r\n",
        "#Leer Json\r\n",
        "df = spark.read.load('abfss://datossinprocesar@dlsasgen2corporativo.dfs.core.windows.net/api/industrial/shoplogix/Pollos/Pollos_20230717.json', format='json')\r\n",
        "\r\n",
        "\r\n",
        "\r\n"
      ],
      "outputs": [
        {
          "output_type": "display_data",
          "data": {
            "application/vnd.livy.statement-meta+json": {
              "spark_pool": "synswindustrial",
              "session_id": "44",
              "statement_id": 7,
              "state": "finished",
              "livy_statement_state": "available",
              "queued_time": "2023-07-18T19:58:26.8035147Z",
              "session_start_time": null,
              "execution_start_time": "2023-07-18T19:58:26.924845Z",
              "execution_finish_time": "2023-07-18T19:58:28.0491694Z",
              "spark_jobs": null,
              "parent_msg_id": "4a786003-7ea5-4cd3-af6d-dc853ca71b1e"
            },
            "text/plain": "StatementMeta(synswindustrial, 44, 7, Finished, Available)"
          },
          "metadata": {}
        }
      ],
      "execution_count": 6,
      "metadata": {
        "microsoft": {
          "language": "python"
        },
        "collapsed": false
      }
    },
    {
      "cell_type": "code",
      "source": [
        "%%pyspark\r\n",
        "#Procesar Json para estructurarlo\r\n",
        "from pyspark.sql.types import *\r\n",
        "from pyspark.sql.functions import *\r\n",
        "\r\n",
        "#Flatten matriz de estructuras\r\n",
        "def flatten(df):\r\n",
        "   complex_fields = dict([(field.name, field.dataType)\r\n",
        "                             for field in df.schema.fields\r\n",
        "                             if type(field.dataType) == ArrayType or  type(field.dataType) == StructType])\r\n",
        "   while len(complex_fields)!=0:\r\n",
        "      col_name=list(complex_fields.keys())[0]\r\n",
        "      print (\"Procesando :\"+col_name+\" Tipo : \"+str(type(complex_fields[col_name])))\r\n",
        "    \r\n",
        "      #Si es StructType convierte todos los subelementos en columnas\r\n",
        "      if (type(complex_fields[col_name]) == StructType):\r\n",
        "         expanded = [col(col_name+'.'+k).alias(col_name+'_'+k) for k in [ n.name for n in  complex_fields[col_name]]]\r\n",
        "         df=df.select(\"*\", *expanded).drop(col_name)\r\n",
        "    \r\n",
        "      # si es ArrayType, agrega los elementos de matriz como filas usando la función de explode\r\n",
        "      elif (type(complex_fields[col_name]) == ArrayType):    \r\n",
        "         df=df.withColumn(col_name,explode_outer(col_name))\r\n",
        "    \r\n",
        "      # volver a calcular los campos complejos restantes en el esquema    \r\n",
        "      complex_fields = dict([(field.name, field.dataType)\r\n",
        "                             for field in df.schema.fields\r\n",
        "                             if type(field.dataType) == ArrayType or  type(field.dataType) == StructType])\r\n",
        "   return df"
      ],
      "outputs": [
        {
          "output_type": "display_data",
          "data": {
            "application/vnd.livy.statement-meta+json": {
              "spark_pool": "synswindustrial",
              "session_id": "44",
              "statement_id": 8,
              "state": "finished",
              "livy_statement_state": "available",
              "queued_time": "2023-07-18T19:58:34.1488911Z",
              "session_start_time": null,
              "execution_start_time": "2023-07-18T19:58:34.2926831Z",
              "execution_finish_time": "2023-07-18T19:58:34.4650653Z",
              "spark_jobs": null,
              "parent_msg_id": "cdb920d1-847b-4538-92a2-0a9b71831e2f"
            },
            "text/plain": "StatementMeta(synswindustrial, 44, 8, Finished, Available)"
          },
          "metadata": {}
        }
      ],
      "execution_count": 7,
      "metadata": {
        "jupyter": {
          "source_hidden": false,
          "outputs_hidden": false
        },
        "nteract": {
          "transient": {
            "deleting": false
          }
        },
        "microsoft": {
          "language": "python"
        }
      }
    },
    {
      "cell_type": "code",
      "source": [
        "#Mostrar Dataframe\r\n",
        "df_flatten = flatten(df)\r\n",
        "display(df_flatten)"
      ],
      "outputs": [
        {
          "output_type": "display_data",
          "data": {
            "application/vnd.livy.statement-meta+json": {
              "spark_pool": "synswindustrial",
              "session_id": "44",
              "statement_id": 9,
              "state": "finished",
              "livy_statement_state": "available",
              "queued_time": "2023-07-18T19:58:41.3532423Z",
              "session_start_time": null,
              "execution_start_time": "2023-07-18T19:58:41.4744572Z",
              "execution_finish_time": "2023-07-18T19:58:42.5841Z",
              "spark_jobs": null,
              "parent_msg_id": "2b0752fe-b063-4113-bd41-31b046a5f4d4"
            },
            "text/plain": "StatementMeta(synswindustrial, 44, 9, Finished, Available)"
          },
          "metadata": {}
        },
        {
          "output_type": "stream",
          "name": "stdout",
          "text": [
            "Procesando :result Tipo : <class 'pyspark.sql.types.StructType'>\nProcesando :result_areas Tipo : <class 'pyspark.sql.types.ArrayType'>\nProcesando :result_areas Tipo : <class 'pyspark.sql.types.StructType'>\nProcesando :result_areas_machines Tipo : <class 'pyspark.sql.types.ArrayType'>\nProcesando :result_areas_machines Tipo : <class 'pyspark.sql.types.StructType'>\nProcesando :result_areas_machines_jobNames Tipo : <class 'pyspark.sql.types.ArrayType'>\nProcesando :result_areas_machines_jobNames Tipo : <class 'pyspark.sql.types.StructType'>\nProcesando :result_areas_machines_jobNames_filters Tipo : <class 'pyspark.sql.types.StructType'>\nProcesando :result_areas_machines_jobNames_metrics Tipo : <class 'pyspark.sql.types.StructType'>\n"
          ]
        },
        {
          "output_type": "display_data",
          "data": {
            "application/vnd.synapse.widget-view+json": {
              "widget_id": "e31c6f19-89b1-4b54-8e14-0f3278c9e3eb",
              "widget_type": "Synapse.DataFrame"
            },
            "text/plain": "SynapseWidget(Synapse.DataFrame, e31c6f19-89b1-4b54-8e14-0f3278c9e3eb)"
          },
          "metadata": {}
        }
      ],
      "execution_count": 8,
      "metadata": {
        "jupyter": {
          "source_hidden": false,
          "outputs_hidden": false
        },
        "nteract": {
          "transient": {
            "deleting": false
          }
        },
        "collapsed": false
      }
    },
    {
      "cell_type": "code",
      "source": [
        "#Escribir en parquet\r\n",
        "path_parquet = \"abfss://datossemiprocesados@dlsasgen2corporativo.dfs.core.windows.net/industrial/lhdwindustrial/des/Shoplogix_full_0600_18072023.parquet\" \r\n",
        "\r\n",
        "df.write \\\r\n",
        "    .mode(\"overwrite\") \\\r\n",
        "    .format(\"parquet\") \\\r\n",
        "    .save(path_parquet)"
      ],
      "outputs": [],
      "execution_count": 6,
      "metadata": {
        "jupyter": {
          "source_hidden": false,
          "outputs_hidden": false
        },
        "nteract": {
          "transient": {
            "deleting": false
          }
        }
      }
    }
  ],
  "metadata": {
    "kernelspec": {
      "name": "synapse_pyspark",
      "language": "Python",
      "display_name": "Synapse PySpark"
    },
    "language_info": {
      "name": "python"
    },
    "kernel_info": {
      "name": "synapse_pyspark"
    },
    "save_output": true,
    "synapse_widget": {
      "version": "0.1",
      "state": {
        "e31c6f19-89b1-4b54-8e14-0f3278c9e3eb": {
          "type": "Synapse.DataFrame",
          "sync_state": {
            "table": {
              "rows": [
                {
                  "0": "https://saas139.shoplogix.com:443/web/api/export/summary/?Start=20230717T000000&End=20230717T155106&metrics=total,scrap,OEE,availability,performance,quality,capacity,OEEc,&groupBy=plant,machine,jobName,&areas=759&jobFilter=filter1,Pollos&jobFilterType=Inclusive&format=json",
                  "1": "8123",
                  "2": "Agrosuper Faenadora San Vicente",
                  "3": "22c6074f-4676-49d6-bfbc-22bf44b3ed7d",
                  "4": "Tformado 1 - Multivac R535"
                },
                {
                  "0": "https://saas139.shoplogix.com:443/web/api/export/summary/?Start=20230717T000000&End=20230717T155106&metrics=total,scrap,OEE,availability,performance,quality,capacity,OEEc,&groupBy=plant,machine,jobName,&areas=759&jobFilter=filter1,Pollos&jobFilterType=Inclusive&format=json",
                  "1": "8123",
                  "2": "Agrosuper Faenadora San Vicente",
                  "3": "25cc1ccc-3e3e-4775-bc1f-64cf9118b4bc",
                  "4": "Tsellado 1 - GT0 S 2"
                },
                {
                  "0": "https://saas139.shoplogix.com:443/web/api/export/summary/?Start=20230717T000000&End=20230717T155106&metrics=total,scrap,OEE,availability,performance,quality,capacity,OEEc,&groupBy=plant,machine,jobName,&areas=759&jobFilter=filter1,Pollos&jobFilterType=Inclusive&format=json",
                  "1": "8123",
                  "2": "Agrosuper Faenadora San Vicente",
                  "3": "962d8901-a333-496b-8b47-334412dd6d2c",
                  "4": "Tsellado 2 - GT0 S 1"
                },
                {
                  "0": "https://saas139.shoplogix.com:443/web/api/export/summary/?Start=20230717T000000&End=20230717T155106&metrics=total,scrap,OEE,availability,performance,quality,capacity,OEEc,&groupBy=plant,machine,jobName,&areas=759&jobFilter=filter1,Pollos&jobFilterType=Inclusive&format=json",
                  "1": "8123",
                  "2": "Agrosuper Faenadora San Vicente",
                  "3": "37c7f411-bd62-4bca-90d5-50a95166869c",
                  "4": "Tsellado 3 - GT1 S"
                },
                {
                  "0": "https://saas139.shoplogix.com:443/web/api/export/summary/?Start=20230717T000000&End=20230717T155106&metrics=total,scrap,OEE,availability,performance,quality,capacity,OEEc,&groupBy=plant,machine,jobName,&areas=759&jobFilter=filter1,Pollos&jobFilterType=Inclusive&format=json",
                  "1": "8123",
                  "2": "Agrosuper Faenadora San Vicente",
                  "3": "a8aee3fb-5444-4b8b-b530-41b464e39ee3",
                  "4": "Tsellado 4 - Ulma TSA 680"
                },
                {
                  "0": "https://saas139.shoplogix.com:443/web/api/export/summary/?Start=20230717T000000&End=20230717T155106&metrics=total,scrap,OEE,availability,performance,quality,capacity,OEEc,&groupBy=plant,machine,jobName,&areas=759&jobFilter=filter1,Pollos&jobFilterType=Inclusive&format=json",
                  "1": "8123",
                  "2": "Agrosuper Faenadora San Vicente",
                  "3": "f8252f7e-90aa-4d2b-80aa-bc86d25c4c1a",
                  "4": "Tsellado 5 - GT0"
                },
                {
                  "0": "https://saas139.shoplogix.com:443/web/api/export/summary/?Start=20230717T000000&End=20230717T155106&metrics=total,scrap,OEE,availability,performance,quality,capacity,OEEc,&groupBy=plant,machine,jobName,&areas=759&jobFilter=filter1,Pollos&jobFilterType=Inclusive&format=json",
                  "1": "8123",
                  "2": "Agrosuper Faenadora San Vicente",
                  "3": "1f6f674f-29e5-475c-9edc-9298c7abd59a",
                  "4": "Tsellado 6 - GT1"
                },
                {
                  "0": "https://saas139.shoplogix.com:443/web/api/export/summary/?Start=20230717T000000&End=20230717T155106&metrics=total,scrap,OEE,availability,performance,quality,capacity,OEEc,&groupBy=plant,machine,jobName,&areas=759&jobFilter=filter1,Pollos&jobFilterType=Inclusive&format=json",
                  "1": "8123",
                  "2": "Agrosuper Faenadora San Vicente",
                  "3": "17ce014d-0609-4767-a6b6-42bd88e946a0",
                  "4": "PACMAC M1"
                },
                {
                  "0": "https://saas139.shoplogix.com:443/web/api/export/summary/?Start=20230717T000000&End=20230717T155106&metrics=total,scrap,OEE,availability,performance,quality,capacity,OEEc,&groupBy=plant,machine,jobName,&areas=759&jobFilter=filter1,Pollos&jobFilterType=Inclusive&format=json",
                  "1": "8123",
                  "2": "Agrosuper Faenadora San Vicente",
                  "3": "765ecbfd-5fd9-4e64-961f-0d272ecd708c",
                  "4": "PACMAC M2"
                },
                {
                  "0": "https://saas139.shoplogix.com:443/web/api/export/summary/?Start=20230717T000000&End=20230717T155106&metrics=total,scrap,OEE,availability,performance,quality,capacity,OEEc,&groupBy=plant,machine,jobName,&areas=759&jobFilter=filter1,Pollos&jobFilterType=Inclusive&format=json",
                  "1": "8123",
                  "2": "Agrosuper Faenadora San Vicente",
                  "3": "fbdfd7d4-2946-43be-b57f-c5f84423d0d7",
                  "4": "PACMAC M3"
                },
                {
                  "0": "https://saas139.shoplogix.com:443/web/api/export/summary/?Start=20230717T000000&End=20230717T155106&metrics=total,scrap,OEE,availability,performance,quality,capacity,OEEc,&groupBy=plant,machine,jobName,&areas=759&jobFilter=filter1,Pollos&jobFilterType=Inclusive&format=json",
                  "1": "8123",
                  "2": "Agrosuper Faenadora San Vicente",
                  "3": "5e8b068d-eebf-4ed5-afd4-aab92966bd5f",
                  "4": "PACMAC M4"
                },
                {
                  "0": "https://saas139.shoplogix.com:443/web/api/export/summary/?Start=20230717T000000&End=20230717T155106&metrics=total,scrap,OEE,availability,performance,quality,capacity,OEEc,&groupBy=plant,machine,jobName,&areas=759&jobFilter=filter1,Pollos&jobFilterType=Inclusive&format=json",
                  "1": "8123",
                  "2": "Agrosuper Faenadora San Vicente",
                  "3": "c649411e-645a-487f-a709-94ef6a8d8cbd",
                  "4": "PACMAC M5"
                },
                {
                  "0": "https://saas139.shoplogix.com:443/web/api/export/summary/?Start=20230717T000000&End=20230717T155106&metrics=total,scrap,OEE,availability,performance,quality,capacity,OEEc,&groupBy=plant,machine,jobName,&areas=759&jobFilter=filter1,Pollos&jobFilterType=Inclusive&format=json",
                  "1": "8123",
                  "2": "Agrosuper Faenadora San Vicente",
                  "3": "dea39bd7-7f86-4c0a-a71b-f8b5a1ffade6",
                  "4": "PACMAC M6"
                },
                {
                  "0": "https://saas139.shoplogix.com:443/web/api/export/summary/?Start=20230717T000000&End=20230717T155106&metrics=total,scrap,OEE,availability,performance,quality,capacity,OEEc,&groupBy=plant,machine,jobName,&areas=759&jobFilter=filter1,Pollos&jobFilterType=Inclusive&format=json",
                  "1": "8123",
                  "2": "Agrosuper Faenadora San Vicente",
                  "3": "4d8e6150-3bc1-4c36-8c20-643b4195d79b",
                  "4": "Faenadora 1 ",
                  "5": "20230717T154841.437",
                  "6": "2100010 - Pollo vivo",
                  "7": "20230717T000000.000",
                  "8": "Pollos",
                  "9": "13500",
                  "10": "0.785746292940931",
                  "11": "0.7681014280874529",
                  "12": "0.7350962987094418",
                  "13": "0.5646378864597923",
                  "14": "0.944566583770572",
                  "15": "0.9904426145982282",
                  "16": "1163.0",
                  "17": "121688.0"
                },
                {
                  "0": "https://saas139.shoplogix.com:443/web/api/export/summary/?Start=20230717T000000&End=20230717T155106&metrics=total,scrap,OEE,availability,performance,quality,capacity,OEEc,&groupBy=plant,machine,jobName,&areas=759&jobFilter=filter1,Pollos&jobFilterType=Inclusive&format=json",
                  "1": "8123",
                  "2": "Agrosuper Faenadora San Vicente",
                  "3": "b5a379f0-75c6-4632-903e-2908b9f51982",
                  "4": "Faenadora 2",
                  "5": "20230717T154838.921",
                  "6": "2100010 - Pollo vivo",
                  "7": "20230717T000000.000",
                  "8": "Pollos",
                  "9": "13500",
                  "10": "0.8400239800929323",
                  "11": "0.7680911771761247",
                  "12": "0.7747248203616874",
                  "13": "0.5950663267992559",
                  "14": "0.9307171457189967",
                  "15": "0.9909188075863845",
                  "16": "1164.0",
                  "17": "128178.5"
                },
                {
                  "0": "https://saas139.shoplogix.com:443/web/api/export/summary/?Start=20230717T000000&End=20230717T155106&metrics=total,scrap,OEE,availability,performance,quality,capacity,OEEc,&groupBy=plant,machine,jobName,&areas=759&jobFilter=filter1,Pollos&jobFilterType=Inclusive&format=json",
                  "1": "8123",
                  "2": "Agrosuper Faenadora San Vicente",
                  "3": "32b44a06-ebe7-4dc3-b2a6-0c75ec2c5987",
                  "4": "Novamax"
                },
                {
                  "0": "https://saas139.shoplogix.com:443/web/api/export/summary/?Start=20230717T000000&End=20230717T155106&metrics=total,scrap,OEE,availability,performance,quality,capacity,OEEc,&groupBy=plant,machine,jobName,&areas=759&jobFilter=filter1,Pollos&jobFilterType=Inclusive&format=json",
                  "1": "8123",
                  "2": "Agrosuper Faenadora San Vicente",
                  "3": "adc9f9ad-ff98-4a0b-8e06-e9774eb44eb3",
                  "4": "Atlanta 4"
                },
                {
                  "0": "https://saas139.shoplogix.com:443/web/api/export/summary/?Start=20230717T000000&End=20230717T155106&metrics=total,scrap,OEE,availability,performance,quality,capacity,OEEc,&groupBy=plant,machine,jobName,&areas=759&jobFilter=filter1,Pollos&jobFilterType=Inclusive&format=json",
                  "1": "8123",
                  "2": "Agrosuper Faenadora San Vicente",
                  "3": "0b980eb1-aa72-49fd-9fe8-c3a6830dbd47",
                  "4": "Atlanta 5"
                },
                {
                  "0": "https://saas139.shoplogix.com:443/web/api/export/summary/?Start=20230717T000000&End=20230717T155106&metrics=total,scrap,OEE,availability,performance,quality,capacity,OEEc,&groupBy=plant,machine,jobName,&areas=759&jobFilter=filter1,Pollos&jobFilterType=Inclusive&format=json",
                  "1": "8123",
                  "2": "Agrosuper Faenadora San Vicente",
                  "3": "32fe2a22-4425-4d4f-aa86-ca5ff3bc36d6",
                  "4": "Atlanta 6"
                },
                {
                  "0": "https://saas139.shoplogix.com:443/web/api/export/summary/?Start=20230717T000000&End=20230717T155106&metrics=total,scrap,OEE,availability,performance,quality,capacity,OEEc,&groupBy=plant,machine,jobName,&areas=759&jobFilter=filter1,Pollos&jobFilterType=Inclusive&format=json",
                  "1": "8123",
                  "2": "Agrosuper Faenadora San Vicente",
                  "3": "b2662aff-87c6-46f6-8474-ee990faaae5b",
                  "4": "Paletizado Cajas"
                },
                {
                  "0": "https://saas139.shoplogix.com:443/web/api/export/summary/?Start=20230717T000000&End=20230717T155106&metrics=total,scrap,OEE,availability,performance,quality,capacity,OEEc,&groupBy=plant,machine,jobName,&areas=759&jobFilter=filter1,Pollos&jobFilterType=Inclusive&format=json",
                  "1": "8123",
                  "2": "Agrosuper Faenadora San Vicente",
                  "3": "d22cc794-e670-42cd-9bfe-de141fdca8ee",
                  "4": "Multiformer 1"
                },
                {
                  "0": "https://saas139.shoplogix.com:443/web/api/export/summary/?Start=20230717T000000&End=20230717T155106&metrics=total,scrap,OEE,availability,performance,quality,capacity,OEEc,&groupBy=plant,machine,jobName,&areas=759&jobFilter=filter1,Pollos&jobFilterType=Inclusive&format=json",
                  "1": "8123",
                  "2": "Agrosuper Faenadora San Vicente",
                  "3": "f1da5d7d-785f-40a9-a1a1-7c2520510a85",
                  "4": "Multiformer 2"
                },
                {
                  "0": "https://saas139.shoplogix.com:443/web/api/export/summary/?Start=20230717T000000&End=20230717T155106&metrics=total,scrap,OEE,availability,performance,quality,capacity,OEEc,&groupBy=plant,machine,jobName,&areas=759&jobFilter=filter1,Pollos&jobFilterType=Inclusive&format=json",
                  "1": "8123",
                  "2": "Agrosuper Faenadora San Vicente",
                  "3": "92954947-b09e-4489-b186-e92dbd2ce8b5",
                  "4": "Atlanta 3"
                },
                {
                  "0": "https://saas139.shoplogix.com:443/web/api/export/summary/?Start=20230717T000000&End=20230717T155106&metrics=total,scrap,OEE,availability,performance,quality,capacity,OEEc,&groupBy=plant,machine,jobName,&areas=759&jobFilter=filter1,Pollos&jobFilterType=Inclusive&format=json",
                  "1": "8123",
                  "2": "Agrosuper Faenadora San Vicente",
                  "3": "aaa3ebb7-afb6-49b1-9509-21f6e05a6dd4",
                  "4": "Atlanta 2"
                },
                {
                  "0": "https://saas139.shoplogix.com:443/web/api/export/summary/?Start=20230717T000000&End=20230717T155106&metrics=total,scrap,OEE,availability,performance,quality,capacity,OEEc,&groupBy=plant,machine,jobName,&areas=759&jobFilter=filter1,Pollos&jobFilterType=Inclusive&format=json",
                  "1": "8123",
                  "2": "Agrosuper Faenadora San Vicente",
                  "3": "9744b591-35c4-4378-ae23-bd7c30e3bb4d",
                  "4": "VTC-700"
                },
                {
                  "0": "https://saas139.shoplogix.com:443/web/api/export/summary/?Start=20230717T000000&End=20230717T155106&metrics=total,scrap,OEE,availability,performance,quality,capacity,OEEc,&groupBy=plant,machine,jobName,&areas=759&jobFilter=filter1,Pollos&jobFilterType=Inclusive&format=json",
                  "1": "8123",
                  "2": "Agrosuper Faenadora San Vicente",
                  "3": "6f389743-f2c2-45cf-b5d9-ff5fd38f80ca",
                  "4": "Palletizado Empanizado"
                },
                {
                  "0": "https://saas139.shoplogix.com:443/web/api/export/summary/?Start=20230717T000000&End=20230717T155106&metrics=total,scrap,OEE,availability,performance,quality,capacity,OEEc,&groupBy=plant,machine,jobName,&areas=759&jobFilter=filter1,Pollos&jobFilterType=Inclusive&format=json",
                  "1": "8124",
                  "2": "Agrosuper Faenadora Sopraval La Calera",
                  "3": "78fe4484-1aed-4e1d-bc48-e33ca966c8b4",
                  "4": "SOP-FAENA"
                },
                {
                  "0": "https://saas139.shoplogix.com:443/web/api/export/summary/?Start=20230717T000000&End=20230717T155106&metrics=total,scrap,OEE,availability,performance,quality,capacity,OEEc,&groupBy=plant,machine,jobName,&areas=759&jobFilter=filter1,Pollos&jobFilterType=Inclusive&format=json",
                  "1": "8124",
                  "2": "Agrosuper Faenadora Sopraval La Calera",
                  "3": "a45c50c0-693c-418d-abc1-7596c200ee28",
                  "4": "SOP-TROZADO"
                },
                {
                  "0": "https://saas139.shoplogix.com:443/web/api/export/summary/?Start=20230717T000000&End=20230717T155106&metrics=total,scrap,OEE,availability,performance,quality,capacity,OEEc,&groupBy=plant,machine,jobName,&areas=759&jobFilter=filter1,Pollos&jobFilterType=Inclusive&format=json",
                  "1": "8121",
                  "2": "Agrosuper Faenadora Lo Miranda",
                  "3": "2ca994c3-c20a-41a6-8017-41eb74892d2d",
                  "4": "ALM-Matanza L1",
                  "5": "20230717T154838.983",
                  "6": "20100010 / Pollo",
                  "7": "20230717T000000.000",
                  "8": "Pollos",
                  "9": "13500",
                  "10": "0.7950769655842542",
                  "11": "0.6500288880376898",
                  "12": "0.7108699772667677",
                  "13": "0.4740726485723431",
                  "14": "0.8940895133899296",
                  "15": "1.0",
                  "16": "0.0",
                  "17": "101189.0"
                },
                {
                  "0": "https://saas139.shoplogix.com:443/web/api/export/summary/?Start=20230717T000000&End=20230717T155106&metrics=total,scrap,OEE,availability,performance,quality,capacity,OEEc,&groupBy=plant,machine,jobName,&areas=759&jobFilter=filter1,Pollos&jobFilterType=Inclusive&format=json",
                  "1": "8121",
                  "2": "Agrosuper Faenadora Lo Miranda",
                  "3": "371f47c8-c714-46d7-a688-f9e9a9246901",
                  "4": "ALM-Matanza L2",
                  "5": "20230717T154838.983",
                  "6": "2010010 / Pollo",
                  "7": "20230717T000000.000",
                  "8": "Pollos",
                  "9": "13500",
                  "10": "0.7897491165313983",
                  "11": "0.65002888803769",
                  "12": "0.6974966369428471",
                  "13": "0.46425284334245104",
                  "14": "0.8831876128032572",
                  "15": "1.0",
                  "16": "0.0",
                  "17": "99093.0"
                },
                {
                  "0": "https://saas139.shoplogix.com:443/web/api/export/summary/?Start=20230717T000000&End=20230717T155106&metrics=total,scrap,OEE,availability,performance,quality,capacity,OEEc,&groupBy=plant,machine,jobName,&areas=759&jobFilter=filter1,Pollos&jobFilterType=Inclusive&format=json",
                  "1": "8121",
                  "2": "Agrosuper Faenadora Lo Miranda",
                  "3": "af90806e-9d18-43d3-9c33-aa58378832bb",
                  "4": "PACMAC N°1"
                },
                {
                  "0": "https://saas139.shoplogix.com:443/web/api/export/summary/?Start=20230717T000000&End=20230717T155106&metrics=total,scrap,OEE,availability,performance,quality,capacity,OEEc,&groupBy=plant,machine,jobName,&areas=759&jobFilter=filter1,Pollos&jobFilterType=Inclusive&format=json",
                  "1": "8121",
                  "2": "Agrosuper Faenadora Lo Miranda",
                  "3": "6c7774f5-d0c8-402a-bb23-d62529545202",
                  "4": "PACMAC N°2"
                },
                {
                  "0": "https://saas139.shoplogix.com:443/web/api/export/summary/?Start=20230717T000000&End=20230717T155106&metrics=total,scrap,OEE,availability,performance,quality,capacity,OEEc,&groupBy=plant,machine,jobName,&areas=759&jobFilter=filter1,Pollos&jobFilterType=Inclusive&format=json",
                  "1": "8121",
                  "2": "Agrosuper Faenadora Lo Miranda",
                  "3": "f78c9e1c-7a63-48b8-93c0-0233a271149a",
                  "4": "CLM-Matanza L1"
                },
                {
                  "0": "https://saas139.shoplogix.com:443/web/api/export/summary/?Start=20230717T000000&End=20230717T155106&metrics=total,scrap,OEE,availability,performance,quality,capacity,OEEc,&groupBy=plant,machine,jobName,&areas=759&jobFilter=filter1,Pollos&jobFilterType=Inclusive&format=json",
                  "1": "8121",
                  "2": "Agrosuper Faenadora Lo Miranda",
                  "3": "7077a09f-67c9-435d-bff3-526eaf4ad696",
                  "4": "ULMA TFS 600"
                },
                {
                  "0": "https://saas139.shoplogix.com:443/web/api/export/summary/?Start=20230717T000000&End=20230717T155106&metrics=total,scrap,OEE,availability,performance,quality,capacity,OEEc,&groupBy=plant,machine,jobName,&areas=759&jobFilter=filter1,Pollos&jobFilterType=Inclusive&format=json",
                  "1": "8121",
                  "2": "Agrosuper Faenadora Lo Miranda",
                  "3": "a3d61bdd-ecd3-4802-9152-4d4f2604fb6f",
                  "4": "MULTIVAC R245"
                },
                {
                  "0": "https://saas139.shoplogix.com:443/web/api/export/summary/?Start=20230717T000000&End=20230717T155106&metrics=total,scrap,OEE,availability,performance,quality,capacity,OEEc,&groupBy=plant,machine,jobName,&areas=759&jobFilter=filter1,Pollos&jobFilterType=Inclusive&format=json",
                  "1": "8121",
                  "2": "Agrosuper Faenadora Lo Miranda",
                  "3": "4da34200-5837-451d-8b39-99de566af43f",
                  "4": "TAURUS TS300"
                },
                {
                  "0": "https://saas139.shoplogix.com:443/web/api/export/summary/?Start=20230717T000000&End=20230717T155106&metrics=total,scrap,OEE,availability,performance,quality,capacity,OEEc,&groupBy=plant,machine,jobName,&areas=759&jobFilter=filter1,Pollos&jobFilterType=Inclusive&format=json",
                  "1": "8120",
                  "2": "Agrosuper Faenadora Rosario",
                  "3": "d21e33fb-7000-4e5a-b59c-63c104f65598",
                  "4": "Faena"
                },
                {
                  "0": "https://saas139.shoplogix.com:443/web/api/export/summary/?Start=20230717T000000&End=20230717T155106&metrics=total,scrap,OEE,availability,performance,quality,capacity,OEEc,&groupBy=plant,machine,jobName,&areas=759&jobFilter=filter1,Pollos&jobFilterType=Inclusive&format=json",
                  "1": "8120",
                  "2": "Agrosuper Faenadora Rosario",
                  "3": "c38db5a2-d38a-4c0f-bb14-f74b0a314bf5",
                  "4": "Multivac R-225"
                },
                {
                  "0": "https://saas139.shoplogix.com:443/web/api/export/summary/?Start=20230717T000000&End=20230717T155106&metrics=total,scrap,OEE,availability,performance,quality,capacity,OEEc,&groupBy=plant,machine,jobName,&areas=759&jobFilter=filter1,Pollos&jobFilterType=Inclusive&format=json",
                  "1": "8120",
                  "2": "Agrosuper Faenadora Rosario",
                  "3": "9ca933e2-4927-48f2-8e0c-346aa1cb8015",
                  "4": "Multivac R-240"
                },
                {
                  "0": "https://saas139.shoplogix.com:443/web/api/export/summary/?Start=20230717T000000&End=20230717T155106&metrics=total,scrap,OEE,availability,performance,quality,capacity,OEEc,&groupBy=plant,machine,jobName,&areas=759&jobFilter=filter1,Pollos&jobFilterType=Inclusive&format=json",
                  "1": "8120",
                  "2": "Agrosuper Faenadora Rosario",
                  "3": "8c628862-f59b-4cdb-8997-a9d1ac33cef7",
                  "4": "Robot 1 Fresco"
                },
                {
                  "0": "https://saas139.shoplogix.com:443/web/api/export/summary/?Start=20230717T000000&End=20230717T155106&metrics=total,scrap,OEE,availability,performance,quality,capacity,OEEc,&groupBy=plant,machine,jobName,&areas=759&jobFilter=filter1,Pollos&jobFilterType=Inclusive&format=json",
                  "1": "8120",
                  "2": "Agrosuper Faenadora Rosario",
                  "3": "9161f889-013c-4f9a-b6e2-fe3ea14ff26f",
                  "4": "Robot 2 Fresco"
                },
                {
                  "0": "https://saas139.shoplogix.com:443/web/api/export/summary/?Start=20230717T000000&End=20230717T155106&metrics=total,scrap,OEE,availability,performance,quality,capacity,OEEc,&groupBy=plant,machine,jobName,&areas=759&jobFilter=filter1,Pollos&jobFilterType=Inclusive&format=json",
                  "1": "8120",
                  "2": "Agrosuper Faenadora Rosario",
                  "3": "63f93ae9-420f-4756-9e64-ca544665d01f",
                  "4": "Robot 3 Fresco"
                },
                {
                  "0": "https://saas139.shoplogix.com:443/web/api/export/summary/?Start=20230717T000000&End=20230717T155106&metrics=total,scrap,OEE,availability,performance,quality,capacity,OEEc,&groupBy=plant,machine,jobName,&areas=759&jobFilter=filter1,Pollos&jobFilterType=Inclusive&format=json",
                  "1": "8120",
                  "2": "Agrosuper Faenadora Rosario",
                  "3": "3aed9bec-049a-4853-95d5-8da03d8d3d76",
                  "4": "Robot 4 Congelado"
                },
                {
                  "0": "https://saas139.shoplogix.com:443/web/api/export/summary/?Start=20230717T000000&End=20230717T155106&metrics=total,scrap,OEE,availability,performance,quality,capacity,OEEc,&groupBy=plant,machine,jobName,&areas=759&jobFilter=filter1,Pollos&jobFilterType=Inclusive&format=json",
                  "1": "8120",
                  "2": "Agrosuper Faenadora Rosario",
                  "3": "163b4cc4-add3-4b15-bc09-bf39161abeb4",
                  "4": "Robot 5 Congelado"
                },
                {
                  "0": "https://saas139.shoplogix.com:443/web/api/export/summary/?Start=20230717T000000&End=20230717T155106&metrics=total,scrap,OEE,availability,performance,quality,capacity,OEEc,&groupBy=plant,machine,jobName,&areas=759&jobFilter=filter1,Pollos&jobFilterType=Inclusive&format=json",
                  "1": "8120",
                  "2": "Agrosuper Faenadora Rosario",
                  "3": "131b3721-f937-4092-bc55-614212cdc523",
                  "4": "Robot 6 Congelado"
                },
                {
                  "0": "https://saas139.shoplogix.com:443/web/api/export/summary/?Start=20230717T000000&End=20230717T155106&metrics=total,scrap,OEE,availability,performance,quality,capacity,OEEc,&groupBy=plant,machine,jobName,&areas=759&jobFilter=filter1,Pollos&jobFilterType=Inclusive&format=json",
                  "1": "8120",
                  "2": "Agrosuper Faenadora Rosario",
                  "3": "942175de-0175-415a-a5c0-2953327f8cd6",
                  "4": "Carton Freezer 1"
                },
                {
                  "0": "https://saas139.shoplogix.com:443/web/api/export/summary/?Start=20230717T000000&End=20230717T155106&metrics=total,scrap,OEE,availability,performance,quality,capacity,OEEc,&groupBy=plant,machine,jobName,&areas=759&jobFilter=filter1,Pollos&jobFilterType=Inclusive&format=json",
                  "1": "8120",
                  "2": "Agrosuper Faenadora Rosario",
                  "3": "1ff87109-5b0b-48d3-8331-4fa254a4ace0",
                  "4": "Carton Freezer 2"
                }
              ],
              "schema": [
                {
                  "key": "0",
                  "name": "result_query",
                  "type": "string"
                },
                {
                  "key": "1",
                  "name": "result_areas_areaId",
                  "type": "bigint"
                },
                {
                  "key": "2",
                  "name": "result_areas_areaName",
                  "type": "string"
                },
                {
                  "key": "3",
                  "name": "result_areas_machines_machineId",
                  "type": "string"
                },
                {
                  "key": "4",
                  "name": "result_areas_machines_machineName",
                  "type": "string"
                },
                {
                  "key": "5",
                  "name": "result_areas_machines_jobNames_end",
                  "type": "string"
                },
                {
                  "key": "6",
                  "name": "result_areas_machines_jobNames_jobName",
                  "type": "string"
                },
                {
                  "key": "7",
                  "name": "result_areas_machines_jobNames_start",
                  "type": "string"
                },
                {
                  "key": "8",
                  "name": "result_areas_machines_jobNames_filters_filter1",
                  "type": "string"
                },
                {
                  "key": "9",
                  "name": "result_areas_machines_jobNames_filters_filter2",
                  "type": "string"
                },
                {
                  "key": "10",
                  "name": "result_areas_machines_jobNames_metrics_availability",
                  "type": "double"
                },
                {
                  "key": "11",
                  "name": "result_areas_machines_jobNames_metrics_capacity",
                  "type": "double"
                },
                {
                  "key": "12",
                  "name": "result_areas_machines_jobNames_metrics_oee",
                  "type": "double"
                },
                {
                  "key": "13",
                  "name": "result_areas_machines_jobNames_metrics_oeec",
                  "type": "double"
                },
                {
                  "key": "14",
                  "name": "result_areas_machines_jobNames_metrics_performance",
                  "type": "double"
                },
                {
                  "key": "15",
                  "name": "result_areas_machines_jobNames_metrics_quality",
                  "type": "double"
                },
                {
                  "key": "16",
                  "name": "result_areas_machines_jobNames_metrics_scrap",
                  "type": "double"
                },
                {
                  "key": "17",
                  "name": "result_areas_machines_jobNames_metrics_total",
                  "type": "double"
                }
              ],
              "truncated": false
            },
            "isSummary": false,
            "language": "scala"
          },
          "persist_state": {
            "view": {
              "type": "details",
              "tableOptions": {},
              "chartOptions": {
                "chartType": "bar",
                "aggregationType": "sum",
                "categoryFieldKeys": [
                  "0"
                ],
                "seriesFieldKeys": [
                  "1"
                ],
                "isStacked": false
              }
            }
          }
        }
      }
    }
  },
  "nbformat": 4,
  "nbformat_minor": 2
}
